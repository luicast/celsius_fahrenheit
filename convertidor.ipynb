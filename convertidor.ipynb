{
  "nbformat": 4,
  "nbformat_minor": 0,
  "metadata": {
    "colab": {
      "name": "Untitled0.ipynb",
      "provenance": [],
      "toc_visible": true,
      "authorship_tag": "ABX9TyNRpaTGI8kXAua904mLtrIz",
      "include_colab_link": true
    },
    "kernelspec": {
      "name": "python3",
      "display_name": "Python 3"
    },
    "language_info": {
      "name": "python"
    }
  },
  "cells": [
    {
      "cell_type": "markdown",
      "metadata": {
        "id": "view-in-github",
        "colab_type": "text"
      },
      "source": [
        "<a href=\"https://colab.research.google.com/github/luicast/celsius_fahrenheit/blob/main/convertidor.ipynb\" target=\"_parent\"><img src=\"https://colab.research.google.com/assets/colab-badge.svg\" alt=\"Open In Colab\"/></a>"
      ]
    },
    {
      "cell_type": "code",
      "metadata": {
        "id": "A93vVe_d4Ad7"
      },
      "source": [
        "import tensorflow as tf\n",
        "import numpy as np\n"
      ],
      "execution_count": 1,
      "outputs": []
    },
    {
      "cell_type": "code",
      "metadata": {
        "id": "GaEVJvLv4QFq"
      },
      "source": [
        "celsius = np.array([-40, -10, 0, 8, 15, 22, 38], dtype=float)\n",
        "fahrenheit = np.array([-40, 14, 32, 46, 59, 72, 100], dtype=float)"
      ],
      "execution_count": 2,
      "outputs": []
    },
    {
      "cell_type": "code",
      "metadata": {
        "id": "40I8RhI342M5"
      },
      "source": [
        "# capa = tf.keras.layers.Dense(units=1, input_shape=[1])\n",
        "# modelo = tf.keras.Sequential([capa])\n",
        "oculta1 = tf.keras.layers.Dense(units=3, input_shape=[1])\n",
        "oculta2 = tf.keras.layers.Dense(units=3)\n",
        "salida = tf.keras.layers.Dense(units=1)\n",
        "modelo = tf.keras.Sequential([oculta1, oculta2, salida])"
      ],
      "execution_count": 12,
      "outputs": []
    },
    {
      "cell_type": "code",
      "metadata": {
        "id": "8imfIh5X5Zpf"
      },
      "source": [
        "modelo.compile(\n",
        "    optimizer=tf.keras.optimizers.Adam(0.1),\n",
        "    loss='mean_squared_error'\n",
        ")"
      ],
      "execution_count": 13,
      "outputs": []
    },
    {
      "cell_type": "code",
      "metadata": {
        "colab": {
          "base_uri": "https://localhost:8080/"
        },
        "id": "HbNJ7Zpf54Fs",
        "outputId": "3ece8c89-6b26-41d0-98d7-f15bbc69636d"
      },
      "source": [
        "print(\"comenzando entrenamiento...\")\n",
        "historial =  modelo.fit(celsius, fahrenheit, epochs=600, verbose=False)\n",
        "print(\"modelo entrenado\")"
      ],
      "execution_count": 14,
      "outputs": [
        {
          "output_type": "stream",
          "name": "stdout",
          "text": [
            "comenzando entrenamiento...\n",
            "modelo entrenado\n"
          ]
        }
      ]
    },
    {
      "cell_type": "code",
      "metadata": {
        "colab": {
          "base_uri": "https://localhost:8080/",
          "height": 296
        },
        "id": "BzBh9AYk6QW1",
        "outputId": "40082194-d929-496e-8a26-455c60096c52"
      },
      "source": [
        "import matplotlib.pyplot as plt\n",
        "plt.xlabel(\"# epoca\")\n",
        "plt.ylabel(\"magnitud de perdida\")\n",
        "plt.plot(historial.history[\"loss\"])"
      ],
      "execution_count": 15,
      "outputs": [
        {
          "output_type": "execute_result",
          "data": {
            "text/plain": [
              "[<matplotlib.lines.Line2D at 0x7f9094f37310>]"
            ]
          },
          "metadata": {},
          "execution_count": 15
        },
        {
          "output_type": "display_data",
          "data": {
            "image/png": "[encoded data removed]",
            "text/plain": [
              "<Figure size 432x288 with 1 Axes>"
            ]
          },
          "metadata": {
            "needs_background": "light"
          }
        }
      ]
    },
    {
      "cell_type": "code",
      "metadata": {
        "colab": {
          "base_uri": "https://localhost:8080/"
        },
        "id": "jP1pe63z6wdK",
        "outputId": "1509282e-a88a-4f8f-c7b2-48a3ab6b3cc1"
      },
      "source": [
        "print(\"hagamos una prediccion\")\n",
        "resultado = modelo.predict([100.0])\n",
        "print(f\"el resultado es {resultado} en fahrenheit\")"
      ],
      "execution_count": 16,
      "outputs": [
        {
          "output_type": "stream",
          "name": "stdout",
          "text": [
            "hagamos una prediccion\n",
            "el resultado es [[211.74745]] en fahrenheit\n"
          ]
        }
      ]
    },
    {
      "cell_type": "code",
      "metadata": {
        "colab": {
          "base_uri": "https://localhost:8080/"
        },
        "id": "IsZRfMep7W4C",
        "outputId": "49ee77d0-c596-4c1b-ad51-484bf9a9f48e"
      },
      "source": [
        "print(\"valores internos del modelo\")\n",
        "# print(capa.get_weights())\n",
        "print(oculta1.get_weights())\n",
        "print(oculta2.get_weights())\n",
        "print(salida.get_weights())"
      ],
      "execution_count": 18,
      "outputs": [
        {
          "output_type": "stream",
          "name": "stdout",
          "text": [
            "valores internos del modelo\n",
            "[array([[ 0.38257685,  0.2987537 , -0.4401512 ]], dtype=float32), array([ 3.9467397,  1.5385022, -3.981202 ], dtype=float32)]\n",
            "[array([[ 1.2003316 ,  0.4579318 , -0.27884144],\n",
            "       [ 0.4888115 ,  0.49256775,  0.49198514],\n",
            "       [-0.6491977 ,  0.662725  ,  0.89328575]], dtype=float32), array([ 3.9607518,  0.520044 , -4.0575247], dtype=float32)]\n",
            "[array([[ 1.5397307 ],\n",
            "       [ 0.09902678],\n",
            "       [-1.1987642 ]], dtype=float32), array([3.8388455], dtype=float32)]\n"
          ]
        }
      ]
    }
  ]
}